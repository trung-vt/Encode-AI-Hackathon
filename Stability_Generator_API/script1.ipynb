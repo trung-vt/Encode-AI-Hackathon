{
 "cells": [
  {
   "cell_type": "code",
   "execution_count": 1,
   "id": "33746ceaabd44992",
   "metadata": {
    "ExecuteTime": {
     "end_time": "2024-03-09T13:10:14.295341Z",
     "start_time": "2024-03-09T13:10:14.230523Z"
    }
   },
   "outputs": [],
   "source": [
    "import requests\n",
    "from PIL import Image\n",
    "import base64\n",
    "import requests\n",
    "import os\n",
    "from dotenv import load_dotenv\n",
    "from main_function import generate_image_from_text, resize_image, generate_and_download_video"
   ]
  },
  {
   "cell_type": "markdown",
   "id": "5233619eb9a35811",
   "metadata": {},
   "source": [
    "## Image generation"
   ]
  },
  {
   "cell_type": "code",
   "execution_count": 6,
   "id": "31d922f8a04b57df",
   "metadata": {
    "ExecuteTime": {
     "end_time": "2024-03-09T13:10:18.364281Z",
     "start_time": "2024-03-09T13:10:18.360576Z"
    }
   },
   "outputs": [],
   "source": [
    "# Load environment variables from .env file\n",
    "#load_dotenv()\n",
    "#api_key = os.getenv(\"API_KEY\")"
   ]
  },
  {
   "cell_type": "code",
   "execution_count": 2,
   "id": "5f28d600",
   "metadata": {},
   "outputs": [],
   "source": [
    "api_key='sk-sCTLqlnzDxEQJrHmtT3GTNncfLYX5n9njuL04oWKbav0PUqR'"
   ]
  },
  {
   "cell_type": "code",
   "execution_count": 3,
   "id": "3ef87a5c98dd41c4",
   "metadata": {
    "ExecuteTime": {
     "end_time": "2024-03-09T13:10:21.989187Z",
     "start_time": "2024-03-09T13:10:21.986804Z"
    }
   },
   "outputs": [],
   "source": [
    "# Combined usage:\n",
    "text_prompts = [\n",
    "    {\"text\": \"Ten years have passed. Harry, now almost eleven, has been living in a small cupboard under the stairs. Harry has been abused by the Mr. and Mrs. Dursley, as well as their only son, Dudley. Dudley is spoiled and whiny. Today is Dudley’s birthday, and he complains about getting only 37 presents this year. Harry is very self-conscience, and the only thing he likes about his appearance is a lightning shaped scar on his forehead. He is told he got that in a car crash when his parents died.\", \"weight\": 1},\n",
    "    {\"text\": \"blurry, bad\", \"weight\": -1},]\n",
    "output_directory = \"Images/\"\n",
    "book_name = \"Harry\""
   ]
  },
  {
   "cell_type": "code",
   "execution_count": 4,
   "id": "33925e91884071dd",
   "metadata": {
    "ExecuteTime": {
     "end_time": "2024-03-09T13:10:34.640799Z",
     "start_time": "2024-03-09T13:10:26.332085Z"
    }
   },
   "outputs": [],
   "source": [
    "#generate_image_from_text(api_key, text_prompts, output_directory, book_name)"
   ]
  },
  {
   "cell_type": "code",
   "execution_count": 5,
   "id": "787ee89d0fa147b4",
   "metadata": {
    "ExecuteTime": {
     "end_time": "2024-03-09T13:11:28.336824Z",
     "start_time": "2024-03-09T13:11:27.740769Z"
    }
   },
   "outputs": [],
   "source": [
    "#resize_image(\"Images/Harry_2831275650.png\")"
   ]
  },
  {
   "cell_type": "code",
   "execution_count": 4,
   "id": "5eb2aa8b0548d1f0",
   "metadata": {
    "ExecuteTime": {
     "end_time": "2024-03-09T13:36:26.360764Z",
     "start_time": "2024-03-09T13:36:20.234532Z"
    }
   },
   "outputs": [
    {
     "ename": "Exception",
     "evalue": "Non-200 response: {\"id\":\"f66b4d68c65ef97869971859cf44c1ad\",\"message\":\"for stable-diffusion-xl-1024-v0-9 and stable-diffusion-xl-1024-v1-0 the allowed dimensions are 1024x1024, 1152x896, 1216x832, 1344x768, 1536x640, 640x1536, 768x1344, 832x1216, 896x1152, but we received 768x768\",\"name\":\"invalid_sdxl_v1_dimensions\"}\n",
     "output_type": "error",
     "traceback": [
      "\u001b[1;31m---------------------------------------------------------------------------\u001b[0m",
      "\u001b[1;31mException\u001b[0m                                 Traceback (most recent call last)",
      "Input \u001b[1;32mIn [4]\u001b[0m, in \u001b[0;36m<cell line: 1>\u001b[1;34m()\u001b[0m\n\u001b[1;32m----> 1\u001b[0m \u001b[43mgenerate_and_download_video\u001b[49m\u001b[43m(\u001b[49m\u001b[43mapi_key\u001b[49m\u001b[43m,\u001b[49m\u001b[43m \u001b[49m\u001b[43mtext_prompts\u001b[49m\u001b[43m,\u001b[49m\u001b[43m \u001b[49m\u001b[38;5;124;43m\"\u001b[39;49m\u001b[38;5;124;43mImages\u001b[39;49m\u001b[38;5;124;43m\"\u001b[39;49m\u001b[43m,\u001b[49m\u001b[43m \u001b[49m\u001b[38;5;124;43m\"\u001b[39;49m\u001b[38;5;124;43m1\u001b[39;49m\u001b[38;5;124;43m\"\u001b[39;49m\u001b[43m)\u001b[49m\n",
      "File \u001b[1;32m~\\Documents\\QMUL\\ML Hackaton\\Encode-AI-Hackathon\\Stability_Generator_API\\main_function.py:105\u001b[0m, in \u001b[0;36mgenerate_and_download_video\u001b[1;34m(api_key, text_prompts, output_directory, book_name)\u001b[0m\n\u001b[0;32m    102\u001b[0m \u001b[38;5;28;01mdef\u001b[39;00m \u001b[38;5;21mgenerate_and_download_video\u001b[39m(api_key, text_prompts, output_directory, book_name):\n\u001b[0;32m    104\u001b[0m     \u001b[38;5;28;01mimport\u001b[39;00m \u001b[38;5;21;01mos\u001b[39;00m\n\u001b[1;32m--> 105\u001b[0m     image_path \u001b[38;5;241m=\u001b[39m \u001b[43mgenerate_image_from_text\u001b[49m\u001b[43m(\u001b[49m\u001b[43mapi_key\u001b[49m\u001b[43m,\u001b[49m\u001b[43m \u001b[49m\u001b[43mtext_prompts\u001b[49m\u001b[43m,\u001b[49m\u001b[43m \u001b[49m\u001b[43moutput_directory\u001b[49m\u001b[43m,\u001b[49m\u001b[43m \u001b[49m\u001b[43mbook_name\u001b[49m\u001b[43m)\u001b[49m\n\u001b[0;32m    106\u001b[0m     \u001b[38;5;28mprint\u001b[39m(image_path)\n\u001b[0;32m    107\u001b[0m     image_name \u001b[38;5;241m=\u001b[39m os\u001b[38;5;241m.\u001b[39mpath\u001b[38;5;241m.\u001b[39mbasename(image_path)\n",
      "File \u001b[1;32m~\\Documents\\QMUL\\ML Hackaton\\Encode-AI-Hackathon\\Stability_Generator_API\\main_function.py:29\u001b[0m, in \u001b[0;36mgenerate_image_from_text\u001b[1;34m(api_key, text_prompts, output_directory, book_name)\u001b[0m\n\u001b[0;32m     26\u001b[0m response \u001b[38;5;241m=\u001b[39m requests\u001b[38;5;241m.\u001b[39mpost(url, headers\u001b[38;5;241m=\u001b[39mheaders, json\u001b[38;5;241m=\u001b[39mbody)\n\u001b[0;32m     28\u001b[0m \u001b[38;5;28;01mif\u001b[39;00m response\u001b[38;5;241m.\u001b[39mstatus_code \u001b[38;5;241m!=\u001b[39m \u001b[38;5;241m200\u001b[39m:\n\u001b[1;32m---> 29\u001b[0m     \u001b[38;5;28;01mraise\u001b[39;00m \u001b[38;5;167;01mException\u001b[39;00m(\u001b[38;5;124m\"\u001b[39m\u001b[38;5;124mNon-200 response: \u001b[39m\u001b[38;5;124m\"\u001b[39m \u001b[38;5;241m+\u001b[39m \u001b[38;5;28mstr\u001b[39m(response\u001b[38;5;241m.\u001b[39mtext))\n\u001b[0;32m     31\u001b[0m data \u001b[38;5;241m=\u001b[39m response\u001b[38;5;241m.\u001b[39mjson()\n\u001b[0;32m     33\u001b[0m \u001b[38;5;66;03m# Ensure the output directory exists\u001b[39;00m\n",
      "\u001b[1;31mException\u001b[0m: Non-200 response: {\"id\":\"f66b4d68c65ef97869971859cf44c1ad\",\"message\":\"for stable-diffusion-xl-1024-v0-9 and stable-diffusion-xl-1024-v1-0 the allowed dimensions are 1024x1024, 1152x896, 1216x832, 1344x768, 1536x640, 640x1536, 768x1344, 832x1216, 896x1152, but we received 768x768\",\"name\":\"invalid_sdxl_v1_dimensions\"}\n"
     ]
    }
   ],
   "source": [
    "generate_and_download_video(api_key, text_prompts, \"Images\", \"1\")"
   ]
  },
  {
   "cell_type": "markdown",
   "id": "bb9f9847b0fce36e",
   "metadata": {},
   "source": [
    "++++++++++++++++++++++++++++++"
   ]
  },
  {
   "cell_type": "code",
   "execution_count": 13,
   "id": "initial_id",
   "metadata": {
    "ExecuteTime": {
     "end_time": "2024-03-08T19:09:56.597826Z",
     "start_time": "2024-03-08T19:09:51.852565Z"
    }
   },
   "outputs": [
    {
     "name": "stdout",
     "output_type": "stream",
     "text": [
      "Generation ID: 1d61aa10bad4ebdc820fe1aecac5a24068661aaf3e894d394e3bf8b693625609\n"
     ]
    }
   ],
   "source": [
    "#api_key = \"sk-bkuIqt0pQzG17G7H3q8phhkvYLBkUK3S7z4vqMfLtCdEjkDJ\"\n",
    "response = requests.post(\n",
    "    f\"https://api.stability.ai/v2alpha/generation/image-to-video\",\n",
    "    headers={\"authorization\": f\"Bearer {api_key} \"},\n",
    "    #files={\"image\": open(\"./animal_farm.jpeg\", \"rb\")},\n",
    "    files={\"image\": open(\"Images/Harry_2831275650.png\", \"rb\")},\n",
    "    data={\n",
    "        \"seed\": 0,\n",
    "        \"cfg_scale\": 1.8,\n",
    "        \"motion_bucket_id\": 127\n",
    "    },\n",
    ")\n",
    "\n",
    "generation_id = response.json().get('id')\n",
    "print(\"Generation ID:\", response.json().get('id'))"
   ]
  },
  {
   "cell_type": "code",
   "execution_count": null,
   "id": "2836842feea3891a",
   "metadata": {
    "ExecuteTime": {
     "end_time": "2024-03-08T19:11:08.338684Z",
     "start_time": "2024-03-08T19:11:04.907763Z"
    }
   },
   "outputs": [],
   "source": [
    "response = requests.request(\n",
    "    \"GET\",\n",
    "    f\"https://api.stability.ai/v2alpha/generation/image-to-video/result/{generation_id}\",\n",
    "    headers={\n",
    "        'Accept': \"video/*\",  # Use 'application/json' to receive base64 encoded JSON\n",
    "        'authorization': f\"Bearer {api_key}\"\n",
    "    },\n",
    ")\n",
    "\n",
    "if response.status_code == 202:\n",
    "    print(\"Generation in-progress, try again in 10 seconds.\")\n",
    "elif response.status_code == 200:\n",
    "    print(\"Generation complete!\")\n",
    "    with open(\"video.mp4\", 'wb') as file:\n",
    "        file.write(response.content)\n",
    "else:\n",
    "    raise Exception(str(response.json()))"
   ]
  },
  {
   "cell_type": "code",
   "execution_count": null,
   "id": "845e440adad2ac17",
   "metadata": {},
   "outputs": [],
   "source": [
    "def generate_video(api_key, image_path):\n",
    "    response = requests.post(\n",
    "        f\"https://api.stability.ai/v2alpha/generation/image-to-video\",\n",
    "        headers={\"authorization\": f\"Bearer {api_key} \"},\n",
    "        files={\"image\": open(\"./animal_farm.jpeg\", \"rb\")},\n",
    "        data={\n",
    "            \"seed\": 0,\n",
    "            \"cfg_scale\": 1.8,\n",
    "            \"motion_bucket_id\": 127\n",
    "        },\n",
    "    )\n",
    "    \n",
    "generation_id = response.json().get('id')\n",
    "print(\"Generation ID:\", response.json().get('id'))"
   ]
  },
  {
   "cell_type": "markdown",
   "id": "cf52e50bcb9690ef",
   "metadata": {},
   "source": [
    "Combined function"
   ]
  }
 ],
 "metadata": {
  "kernelspec": {
   "display_name": "Python 3 (ipykernel)",
   "language": "python",
   "name": "python3"
  },
  "language_info": {
   "codemirror_mode": {
    "name": "ipython",
    "version": 3
   },
   "file_extension": ".py",
   "mimetype": "text/x-python",
   "name": "python",
   "nbconvert_exporter": "python",
   "pygments_lexer": "ipython3",
   "version": "3.9.12"
  }
 },
 "nbformat": 4,
 "nbformat_minor": 5
}
